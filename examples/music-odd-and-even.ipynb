{
 "cells": [
  {
   "cell_type": "code",
   "execution_count": null,
   "metadata": {},
   "outputs": [],
   "source": [
    "from math import tau\n",
    "\n",
    "import matplotlib.pyplot as plt\n",
    "import numpy as np\n",
    "import pandas as pd\n",
    "import scipy as sp\n",
    "import scipy.linalg as LA\n",
    "import scipy.signal as ss\n",
    "\n",
    "plt.style.use('seaborn-notebook')\n",
    "np.random.seed(293710966)"
   ]
  },
  {
   "cell_type": "markdown",
   "metadata": {},
   "source": [
    "# Generazione del Segnale"
   ]
  },
  {
   "cell_type": "code",
   "execution_count": null,
   "metadata": {},
   "outputs": [],
   "source": [
    "magnitudes = pd.read_csv('./harmonic-voltage-magnitude.csv', index_col='number')['typical']\n",
    "phases = np.radians(pd.read_csv('./phases.csv', index_col='number'))['3.9']\n",
    "\n",
    "power_freq = 50\n",
    "sampling_freq = 2400\n",
    "harmonic_numbers = np.arange(2, 14)\n",
    "no_of_harmonics = harmonic_numbers.max() * 2\n",
    "\n",
    "time = np.arange(4096.)\n",
    "\n",
    "noise = np.random.normal(0, 0.0001, time.size)\n",
    "signal = noise.copy()\n",
    "\n",
    "for n in harmonic_numbers:\n",
    "    amp = magnitudes[n]\n",
    "    phase = phases[n]\n",
    "    omega = tau * n * power_freq / sampling_freq\n",
    "    signal += amp * np.cos(omega * time + phase)\n",
    "\n",
    "fig, ax = plt.subplots()\n",
    "ax.plot(time[:200], signal[:200])\n",
    "ax.set_xlabel('time [s]')\n",
    "ax.set_ylabel('signal [V]')\n",
    "fig.tight_layout()"
   ]
  },
  {
   "cell_type": "code",
   "execution_count": null,
   "metadata": {},
   "outputs": [],
   "source": [
    "fastest_period = np.around(sampling_freq / power_freq).astype(int)\n",
    "time_window = fastest_period * harmonic_numbers[-1]\n",
    "data_size = signal.size - time_window + 1\n",
    "\n",
    "windows = [signal[i : i + time_window] for i in range(data_size)]\n",
    "data_matrix = np.vstack(windows)"
   ]
  },
  {
   "cell_type": "code",
   "execution_count": null,
   "metadata": {},
   "outputs": [],
   "source": [
    "correlation = data_matrix.conj().T @ data_matrix / data_matrix.shape[0]"
   ]
  },
  {
   "cell_type": "code",
   "execution_count": null,
   "metadata": {},
   "outputs": [],
   "source": [
    "# signal: K largest      -> M - K : M - 1\n",
    "# noise: M - K smallest  -> 0 : M - K - 1\n",
    "\n",
    "signal_pca = LA.eigh(correlation, subset_by_index=(time_window - no_of_harmonics, time_window - 1))\n",
    "noise_pca = LA.eigh(correlation, subset_by_index=(0, time_window - no_of_harmonics - 1))"
   ]
  },
  {
   "cell_type": "code",
   "execution_count": null,
   "metadata": {},
   "outputs": [],
   "source": [
    "omegas = np.linspace(0, np.pi, 2000)\n",
    "freqs = omegas * sampling_freq / tau\n",
    "\n",
    "pseudo_power = np.empty_like(omegas)\n",
    "\n",
    "for i, omega in enumerate(omegas):\n",
    "    steering = np.exp(1j * omega * np.arange(time_window))\n",
    "    pseudo_power[i] = 1 / np.sum(np.abs(noise_pca[1].T @ steering.conj()) ** 2)\n",
    "    \n",
    "fig, ax = plt.subplots()\n",
    "ax.plot(freqs, 20 * np.log10(pseudo_power))\n",
    "ax.set_xlabel('Frequency [Hz]')\n",
    "ax.set_ylabel('Pseudospectrum [dB]')\n",
    "fig.tight_layout()"
   ]
  },
  {
   "cell_type": "code",
   "execution_count": null,
   "metadata": {},
   "outputs": [],
   "source": [
    "peaks_idx, _ = ss.find_peaks(pseudo_power)\n",
    "\n",
    "peaks = pd.DataFrame()\n",
    "peaks['omega'] = omegas[peaks_idx]\n",
    "peaks['freq'] = freqs[peaks_idx]\n",
    "peaks['power'] = pseudo_power[peaks_idx]\n",
    "peaks = peaks.sort_values('power').tail(harmonic_numbers.size).sort_values('omega')\n",
    "\n",
    "fig, (ax1, ax2) = plt.subplots(1, 2, figsize=(16, 4))\n",
    "\n",
    "ax1.plot(freqs, pseudo_power)\n",
    "ax1.plot(peaks.freq, peaks.power, 'o');\n",
    "ax1.set_xlabel('Frequency [Hz]')\n",
    "ax1.set_ylabel('Pseudospectrum')\n",
    "ax1.set_yscale('log')\n",
    "\n",
    "ax2.plot(power_freq * harmonic_numbers, 'o-', label='Harmonic Frequencies')\n",
    "ax2.plot(peaks.freq.values, 'o-', label='Estimated Frequencies')\n",
    "ax2.set_ylabel('Frequency [Hz]')\n",
    "ax2.legend()\n",
    "\n",
    "fig.tight_layout()"
   ]
  }
 ],
 "metadata": {
  "kernelspec": {
   "display_name": "Python 3",
   "language": "python",
   "name": "python3"
  },
  "language_info": {
   "codemirror_mode": {
    "name": "ipython",
    "version": 3
   },
   "file_extension": ".py",
   "mimetype": "text/x-python",
   "name": "python",
   "nbconvert_exporter": "python",
   "pygments_lexer": "ipython3",
   "version": "3.8.6"
  }
 },
 "nbformat": 4,
 "nbformat_minor": 4
}
