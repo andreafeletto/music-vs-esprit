{
 "cells": [
  {
   "cell_type": "code",
   "execution_count": null,
   "metadata": {},
   "outputs": [],
   "source": [
    "from math import tau\n",
    "\n",
    "import matplotlib.pyplot as plt\n",
    "import numpy as np\n",
    "import pandas as pd\n",
    "import scipy as sp\n",
    "import scipy.linalg as LA\n",
    "import scipy.signal as ss\n",
    "\n",
    "plt.style.use('seaborn-notebook')\n",
    "np.random.seed(293710966)"
   ]
  },
  {
   "cell_type": "markdown",
   "metadata": {},
   "source": [
    "# Esempio 3.14"
   ]
  },
  {
   "cell_type": "code",
   "execution_count": null,
   "metadata": {},
   "outputs": [],
   "source": [
    "power_freq = 50\n",
    "sampling_freq = 1130\n",
    "time = np.arange(4096)\n",
    "harmonic_numbers = np.array([1])\n",
    "no_of_harmonics = harmonic_numbers.max()\n",
    "\n",
    "noise = np.random.normal(0, 0.1, time.size)\n",
    "omega = tau * power_freq / sampling_freq\n",
    "signal = 300. * np.cos(omega * time) + noise\n",
    "\n",
    "fig, ax = plt.subplots()\n",
    "ax.plot(time[:200], signal[:200].real)\n",
    "ax.set_xlabel('time [s]')\n",
    "ax.set_ylabel('signal [V]')\n",
    "fig.tight_layout()"
   ]
  },
  {
   "cell_type": "code",
   "execution_count": null,
   "metadata": {},
   "outputs": [],
   "source": [
    "fastest_period = np.around(sampling_freq / power_freq).astype(int)\n",
    "time_window = fastest_period * harmonic_numbers[-1]\n",
    "data_size = signal.size - time_window + 1\n",
    "\n",
    "windows = [signal[i : i + time_window] for i in range(data_size)]\n",
    "data_matrix = np.vstack(windows)"
   ]
  },
  {
   "cell_type": "markdown",
   "metadata": {},
   "source": [
    "## Matrice delle Basi Ortogonali\n",
    "La matrice $U$ viene ricavata mediante Decomposizione ai Valori Singolari (SVD) della matrice dei campionamenti $R_v$"
   ]
  },
  {
   "cell_type": "code",
   "execution_count": null,
   "metadata": {},
   "outputs": [],
   "source": [
    "_, singuar_values, unitary = LA.svd(data_matrix)\n",
    "unitary_signal = unitary[:, :harmonic_numbers.size]\n",
    "U1 = unitary_signal[:time_window-1]\n",
    "U2 = unitary_signal[-time_window+1:]"
   ]
  },
  {
   "cell_type": "markdown",
   "metadata": {},
   "source": [
    "La matrice $U$ viene poi partizionata estraendo le prime e ultime $\\left( M - 1 \\right)$ colonne."
   ]
  },
  {
   "cell_type": "markdown",
   "metadata": {},
   "source": [
    "## Stima per Minimi Quadrati (LS) di $\\Psi$\n",
    "$$\n",
    "\\hat{\\Psi}_{LS} = \\left( U_1^H U_1 \\right)^{-1} U_1^H U_2\n",
    "$$"
   ]
  },
  {
   "cell_type": "code",
   "execution_count": null,
   "metadata": {},
   "outputs": [],
   "source": [
    "psi_ls = LA.inv(U1.T @ U1) @ U1.T @ U2\n",
    "psi_ls.shape"
   ]
  },
  {
   "cell_type": "markdown",
   "metadata": {},
   "source": [
    "## Stima delle Frequenze Armoniche\n",
    "Calcolo degli autovalori di $\\Psi$ coincidenti con i versori rotanti associati alle frequenze armoniche."
   ]
  },
  {
   "cell_type": "code",
   "execution_count": null,
   "metadata": {},
   "outputs": [],
   "source": [
    "LA.eigvals(psi_ls)"
   ]
  },
  {
   "cell_type": "code",
   "execution_count": null,
   "metadata": {},
   "outputs": [],
   "source": [
    "est_omegas = np.log(LA.eigvals(psi_ls)).imag\n",
    "est_freqs = est_omegas * sampling_freq / tau\n",
    "\n",
    "fig, ax = plt.subplots()\n",
    "ax.plot(power_freq * harmonic_numbers, 'o-', label='Harmonic Frequencies')\n",
    "ax.plot(est_freqs, 'o-', label='Estimated Frequencies')\n",
    "ax.set_ylabel('Frequency [Hz]')\n",
    "ax.legend()\n",
    "fig.tight_layout()"
   ]
  },
  {
   "cell_type": "code",
   "execution_count": null,
   "metadata": {},
   "outputs": [],
   "source": []
  }
 ],
 "metadata": {
  "kernelspec": {
   "display_name": "Python 3",
   "language": "python",
   "name": "python3"
  },
  "language_info": {
   "codemirror_mode": {
    "name": "ipython",
    "version": 3
   },
   "file_extension": ".py",
   "mimetype": "text/x-python",
   "name": "python",
   "nbconvert_exporter": "python",
   "pygments_lexer": "ipython3",
   "version": "3.8.6"
  }
 },
 "nbformat": 4,
 "nbformat_minor": 4
}
