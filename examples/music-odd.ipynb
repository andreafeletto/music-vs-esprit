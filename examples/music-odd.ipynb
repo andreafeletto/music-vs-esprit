{
 "cells": [
  {
   "cell_type": "code",
   "execution_count": null,
   "metadata": {},
   "outputs": [],
   "source": [
    "from math import tau\n",
    "\n",
    "import matplotlib.pyplot as plt\n",
    "import numpy as np\n",
    "import pandas as pd\n",
    "import scipy as sp\n",
    "import scipy.linalg as LA\n",
    "import scipy.signal as ss\n",
    "\n",
    "from utils import *\n",
    "\n",
    "plt.style.use('seaborn-notebook')\n",
    "np.random.seed(293710966)"
   ]
  },
  {
   "cell_type": "markdown",
   "metadata": {},
   "source": [
    "# Generazione del Segnale\n",
    "$$\n",
    "x(n) = \\sum_{k=2}^7 a_{2k-1} \\, cos \\left(2 \\pi n (2k-1)\n",
    "       \\frac{f_0}{f_s} + \\phi_{2k-1} \\right) + w(n)\n",
    "$$"
   ]
  },
  {
   "cell_type": "code",
   "execution_count": null,
   "metadata": {},
   "outputs": [],
   "source": [
    "magnitudes = pd.read_csv('./harmonic-voltage-magnitude.csv', index_col='number')['typical']\n",
    "phases = np.radians(pd.read_csv('./phases.csv', index_col='number'))['3.8']\n",
    "\n",
    "power_freq = 50\n",
    "sampling_freq = 2400\n",
    "harmonic_numbers = np.arange(3, 14, 2)\n",
    "no_of_harmonics = harmonic_numbers.max()\n",
    "\n",
    "time = np.arange(4096.)\n",
    "\n",
    "noise = np.random.normal(0, 0.1, time.size)\n",
    "signal = noise.copy()\n",
    "\n",
    "for n in harmonic_numbers:\n",
    "    amp = magnitudes[n]\n",
    "    phase = phases[n]\n",
    "    omega = tau * n * power_freq / sampling_freq\n",
    "    signal += amp * np.cos(omega * time + phase)\n",
    "\n",
    "fig, ax = plt.subplots()\n",
    "ax.plot(time[:200], signal[:200])\n",
    "ax.set_xlabel('time [s]')\n",
    "ax.set_ylabel('signal [V]')\n",
    "fig.tight_layout()"
   ]
  },
  {
   "cell_type": "markdown",
   "metadata": {},
   "source": [
    "## Finestre di Osservazione"
   ]
  },
  {
   "cell_type": "code",
   "execution_count": null,
   "metadata": {},
   "outputs": [],
   "source": [
    "fastest_period = np.around(sampling_freq / power_freq).astype(int)\n",
    "time_window = fastest_period * harmonic_numbers[-1]\n",
    "data_size = signal.size - time_window + 1\n",
    "\n",
    "windows = [signal[i : i + time_window] for i in range(data_size)]\n",
    "data_matrix = np.vstack(windows)\n",
    "\n",
    "print(f'numero di finestre: {data_matrix.shape[0]}')\n",
    "print(f'larghezza finestre: {data_matrix.shape[1]}')"
   ]
  },
  {
   "cell_type": "markdown",
   "metadata": {},
   "source": [
    "## Matrice di Autorcorrelazione\n",
    "$$\n",
    "\\hat{R}_v = \\frac{1}{N} \\mathbb{V}^H \\mathbb{V}\n",
    "$$"
   ]
  },
  {
   "cell_type": "code",
   "execution_count": null,
   "metadata": {},
   "outputs": [],
   "source": [
    "correlation = data_matrix.conj().T @ data_matrix / data_matrix.shape[0]\n",
    "correlation.shape"
   ]
  },
  {
   "cell_type": "markdown",
   "metadata": {},
   "source": [
    "## Principal Component Analysis"
   ]
  },
  {
   "cell_type": "code",
   "execution_count": null,
   "metadata": {},
   "outputs": [],
   "source": [
    "# signal: K largest      -> M - K : M - 1\n",
    "# noise: M - K smallest  -> 0 : M - K - 1\n",
    "\n",
    "signal_pca = LA.eigh(correlation, subset_by_index=(time_window - no_of_harmonics, time_window - 1))\n",
    "noise_pca = LA.eigh(correlation, subset_by_index=(0, time_window - no_of_harmonics - 1))\n",
    "signal_eigvecs = signal_pca[1].T\n",
    "noise_eigvecs = noise_pca[1].T"
   ]
  },
  {
   "cell_type": "markdown",
   "metadata": {},
   "source": [
    "## MUSIC\n",
    "$$\n",
    "P_{music}(e^{j\\omega}) = \\frac{1}{\\sum_{i=K+1}^M |e^H s_i|^2}\n",
    "$$"
   ]
  },
  {
   "cell_type": "code",
   "execution_count": null,
   "metadata": {},
   "outputs": [],
   "source": [
    "omegas = np.linspace(0, np.pi, 2000)\n",
    "freqs = omegas * sampling_freq / tau\n",
    "\n",
    "steering_matrix = np.exp(1j * np.outer(omegas, np.arange(time_window)))\n",
    "pseudo_power = 1 / np.sum(np.abs(noise_eigvecs @ steering_matrix.conj().T) ** 2, axis=0)\n",
    "\n",
    "fig, ax = plt.subplots()\n",
    "plotdb(ax, freqs, pseudo_power)\n",
    "ax.set_xlabel('Frequency [Hz]')\n",
    "ax.set_ylabel('Pseudospectrum [dB]')\n",
    "fig.tight_layout()"
   ]
  },
  {
   "cell_type": "code",
   "execution_count": null,
   "metadata": {},
   "outputs": [],
   "source": [
    "peaks_idx, _ = ss.find_peaks(pseudo_power)\n",
    "\n",
    "peaks = pd.DataFrame()\n",
    "peaks['omega'] = omegas[peaks_idx]\n",
    "peaks['freq'] = freqs[peaks_idx]\n",
    "peaks['power'] = pseudo_power[peaks_idx]\n",
    "peaks = peaks.sort_values('power').tail(harmonic_numbers.size).sort_values('omega')\n",
    "\n",
    "est_freqs = peaks.freq.values\n",
    "est_omegas = peaks.omega.values\n",
    "real_freqs = power_freq * harmonic_numbers\n",
    "err_freqs = (est_freqs - real_freqs) / real_freqs\n",
    "\n",
    "fig, (ax1, ax2) = plt.subplots(1, 2, figsize=(16, 4))\n",
    "\n",
    "plotdb(ax1, freqs, pseudo_power)\n",
    "plotdb(ax1, est_freqs, peaks.power, 'o')\n",
    "ax1.set_xlabel('Frequency [Hz]')\n",
    "ax1.set_ylabel('Pseudospectrum [dB]')\n",
    "\n",
    "ax2.plot(harmonic_numbers, err_freqs * 100, 'o-')\n",
    "ax2.set_ylabel('Error on Frequency [%]')\n",
    "ax2.set_xlabel('Harmonic Number')\n",
    "ax2.xaxis.set_major_locator(plt.FixedLocator(harmonic_numbers))\n",
    "\n",
    "fig.tight_layout()"
   ]
  },
  {
   "cell_type": "markdown",
   "metadata": {},
   "source": [
    "# Ampiezza e Fase"
   ]
  },
  {
   "cell_type": "markdown",
   "metadata": {},
   "source": [
    "$$\n",
    "A_{ik} = \\left| \\, \\mathbf{s}_i \\, \\mathbf{e}_k^H \\, \\right|^2\n",
    "$$"
   ]
  },
  {
   "cell_type": "code",
   "execution_count": null,
   "metadata": {},
   "outputs": [],
   "source": [
    "est_steering_matrix = np.exp(1j * np.outer(est_omegas, np.arange(time_window)))\n",
    "est_noise_power = noise_pca[0].mean()\n",
    "\n",
    "b = signal_pca[0][harmonic_numbers - 1] - est_noise_power\n",
    "A = np.abs(signal_eigvecs[harmonic_numbers - 1] @ est_steering_matrix.conj().T) ** 2\n",
    "est_powers = LA.solve(A, b)\n",
    "\n",
    "est_amplitudes = np.sqrt(2 * est_powers)\n",
    "real_amplitudes = magnitudes[harmonic_numbers].values\n",
    "err_amplitudes = (est_amplitudes - real_amplitudes) / real_amplitudes\n",
    "\n",
    "fig, ax = plt.subplots()\n",
    "\n",
    "ax.plot(harmonic_numbers, err_amplitudes * 100, 'o-')\n",
    "ax.set_ylabel('Error on Amplitude [%]')\n",
    "ax.set_xlabel('Harmonic Number')\n",
    "ax.xaxis.set_major_locator(plt.FixedLocator(harmonic_numbers))\n",
    "\n",
    "fig.tight_layout()"
   ]
  }
 ],
 "metadata": {
  "kernelspec": {
   "display_name": "Python 3",
   "language": "python",
   "name": "python3"
  },
  "language_info": {
   "codemirror_mode": {
    "name": "ipython",
    "version": 3
   },
   "file_extension": ".py",
   "mimetype": "text/x-python",
   "name": "python",
   "nbconvert_exporter": "python",
   "pygments_lexer": "ipython3",
   "version": "3.8.6"
  }
 },
 "nbformat": 4,
 "nbformat_minor": 4
}
