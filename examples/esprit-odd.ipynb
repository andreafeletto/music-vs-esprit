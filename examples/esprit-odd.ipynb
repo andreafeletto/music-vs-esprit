{
 "cells": [
  {
   "cell_type": "code",
   "execution_count": null,
   "metadata": {},
   "outputs": [],
   "source": [
    "from math import tau\n",
    "\n",
    "import matplotlib.pyplot as plt\n",
    "import numpy as np\n",
    "import pandas as pd\n",
    "import scipy as sp\n",
    "import scipy.linalg as LA\n",
    "import scipy.signal as ss\n",
    "\n",
    "from utils import *\n",
    "\n",
    "plt.style.use('seaborn-notebook')\n",
    "np.random.seed(293710966)"
   ]
  },
  {
   "cell_type": "markdown",
   "metadata": {},
   "source": [
    "# Esempio 3.14"
   ]
  },
  {
   "cell_type": "code",
   "execution_count": null,
   "metadata": {},
   "outputs": [],
   "source": [
    "magnitudes = pd.read_csv('./harmonic-voltage-magnitude.csv', index_col='number')['typical']\n",
    "phases = np.radians(pd.read_csv('./phases.csv', index_col='number'))['3.9']\n",
    "dampings = pd.read_csv('./scaled-damping-factors.csv', index_col='number')['3.14']\n",
    "\n",
    "power_freq = 50\n",
    "sampling_freq = 2400\n",
    "harmonic_numbers = np.arange(3, 14, 2)\n",
    "no_of_harmonics = harmonic_numbers.max()\n",
    "\n",
    "time = np.arange(4096.)\n",
    "\n",
    "noise = np.random.normal(0, 0.1, time.size)\n",
    "signal = noise.copy()\n",
    "\n",
    "for n in harmonic_numbers:\n",
    "    amp = magnitudes[n]\n",
    "    phase = phases[n]\n",
    "    damp = dampings[n] / sampling_freq\n",
    "    omega = tau * n * power_freq / sampling_freq\n",
    "    signal += amp * np.exp(-damp * time) * np.cos(omega * time + phase)\n",
    "\n",
    "fig, ax = plt.subplots()\n",
    "ax.plot(time[:200], signal[:200])\n",
    "ax.set_xlabel('time [s]')\n",
    "ax.set_ylabel('signal [V]')\n",
    "fig.tight_layout()"
   ]
  },
  {
   "cell_type": "code",
   "execution_count": null,
   "metadata": {},
   "outputs": [],
   "source": [
    "fastest_period = np.around(sampling_freq / power_freq).astype(int)\n",
    "time_window = fastest_period * harmonic_numbers.max() * 2\n",
    "data_size = signal.size - time_window + 1\n",
    "\n",
    "windows = [signal[i : i + time_window] for i in range(data_size)]\n",
    "data_matrix = np.vstack(windows)\n",
    "\n",
    "print(f'numero di finestre: {data_matrix.shape[0]}')\n",
    "print(f'larghezza finestre: {data_matrix.shape[1]}')"
   ]
  },
  {
   "cell_type": "markdown",
   "metadata": {},
   "source": [
    "## Matrice delle Basi Ortogonali\n",
    "La matrice $U$ viene ricavata mediante Decomposizione ai Valori Singolari (SVD) della matrice dei campionamenti $R_v$"
   ]
  },
  {
   "cell_type": "code",
   "execution_count": null,
   "metadata": {},
   "outputs": [],
   "source": [
    "unitary_left, singuar_values, unitary_right = LA.svd(data_matrix.T, full_matrices=False)\n",
    "unitary_left.shape, singuar_values.shape, unitary_right.shape"
   ]
  },
  {
   "cell_type": "code",
   "execution_count": null,
   "metadata": {},
   "outputs": [],
   "source": [
    "sigma = np.diag(singuar_values)\n",
    "np.allclose(unitary_left @ sigma @ unitary_right, data_matrix.T)"
   ]
  },
  {
   "cell_type": "code",
   "execution_count": null,
   "metadata": {},
   "outputs": [],
   "source": [
    "unitary_signal = unitary_right[:, :no_of_harmonics]\n",
    "U1 = unitary_signal[:time_window-1]\n",
    "U2 = unitary_signal[-time_window+1:]\n",
    "U1.shape, U2.shape"
   ]
  },
  {
   "cell_type": "markdown",
   "metadata": {},
   "source": [
    "La matrice $U$ viene poi partizionata estraendo le prime e ultime $\\left( M - 1 \\right)$ colonne."
   ]
  },
  {
   "cell_type": "markdown",
   "metadata": {},
   "source": [
    "La matrice $U$ viene poi partizionata estraendo le prime e ultime $\\left( M - 1 \\right)$ colonne."
   ]
  },
  {
   "cell_type": "markdown",
   "metadata": {},
   "source": [
    "## Stima per Minimi Quadrati (LS) di $\\Psi$\n",
    "$$\n",
    "\\hat{\\Psi}_{LS} = \\left( U_1^H U_1 \\right)^{-1} U_1^H U_2\n",
    "$$"
   ]
  },
  {
   "cell_type": "code",
   "execution_count": null,
   "metadata": {},
   "outputs": [],
   "source": [
    "psi_ls = LA.inv(U1.conj().T @ U1) @ U1.conj().T @ U2\n",
    "psi_ls.shape"
   ]
  },
  {
   "cell_type": "code",
   "execution_count": null,
   "metadata": {},
   "outputs": [],
   "source": [
    "fig, (ax1, ax2) = plt.subplots(1, 2)\n",
    "\n",
    "ax1.imshow((U1 @ psi_ls)[:50])\n",
    "ax2.imshow(U2[:50])\n",
    "\n",
    "fig.tight_layout()"
   ]
  },
  {
   "cell_type": "markdown",
   "metadata": {},
   "source": [
    "## Stima delle Frequenze Armoniche\n",
    "Calcolo degli autovalori di $\\Psi$ coincidenti con i versori rotanti associati alle frequenze armoniche."
   ]
  },
  {
   "cell_type": "code",
   "execution_count": null,
   "metadata": {},
   "outputs": [],
   "source": [
    "eigvals = LA.eigvals(psi_ls)\n",
    "\n",
    "some_eigvals = eigvals[eigvals.imag > 0]\n",
    "\n",
    "fig, ax = plt.subplots()\n",
    "plotzero(ax, eigvals.real, eigvals.imag, 'o')\n",
    "plotzero(ax, some_eigvals.real, some_eigvals.imag, 'o')\n",
    "fig.tight_layout()"
   ]
  },
  {
   "cell_type": "code",
   "execution_count": null,
   "metadata": {},
   "outputs": [],
   "source": [
    "est_omegas = np.sort(np.angle(some_eigvals))\n",
    "est_damps = -np.log(some_eigvals).real\n",
    "est_freqs = est_omegas * sampling_freq / tau\n",
    "\n",
    "fig, ax = plt.subplots()\n",
    "ax.plot(power_freq * harmonic_numbers, 'o-', label='True Frequencies')\n",
    "ax.plot(est_freqs, 'o-', label='Estimated Frequencies')\n",
    "ax.set_ylabel('Frequency [Hz]')\n",
    "ax.legend()\n",
    "fig.tight_layout()"
   ]
  },
  {
   "cell_type": "code",
   "execution_count": null,
   "metadata": {},
   "outputs": [],
   "source": [
    "est_damps"
   ]
  },
  {
   "cell_type": "code",
   "execution_count": null,
   "metadata": {},
   "outputs": [],
   "source": []
  }
 ],
 "metadata": {
  "kernelspec": {
   "display_name": "Python 3",
   "language": "python",
   "name": "python3"
  },
  "language_info": {
   "codemirror_mode": {
    "name": "ipython",
    "version": 3
   },
   "file_extension": ".py",
   "mimetype": "text/x-python",
   "name": "python",
   "nbconvert_exporter": "python",
   "pygments_lexer": "ipython3",
   "version": "3.8.6"
  }
 },
 "nbformat": 4,
 "nbformat_minor": 4
}
