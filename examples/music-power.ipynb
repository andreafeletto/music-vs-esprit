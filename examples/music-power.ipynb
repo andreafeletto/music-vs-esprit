{
 "cells": [
  {
   "cell_type": "code",
   "execution_count": null,
   "metadata": {},
   "outputs": [],
   "source": [
    "from math import tau\n",
    "\n",
    "import matplotlib.pyplot as plt\n",
    "import numpy as np\n",
    "import pandas as pd\n",
    "import scipy as sp\n",
    "import scipy.linalg as LA\n",
    "import scipy.signal as ss\n",
    "\n",
    "from utils import *\n",
    "\n",
    "plt.style.use('seaborn-notebook')\n",
    "np.random.seed(293710966)"
   ]
  },
  {
   "cell_type": "markdown",
   "metadata": {},
   "source": [
    "# Generazione del Segnale\n",
    "$$\n",
    "x(n) = 300 \\, cos \\left(2 \\pi n \\frac{f_0}{f_s} + 0.1 \\right) + w(n)\n",
    "$$"
   ]
  },
  {
   "cell_type": "code",
   "execution_count": null,
   "metadata": {},
   "outputs": [],
   "source": [
    "power_freq = 50\n",
    "sampling_freq = 1130\n",
    "time = np.arange(4096)\n",
    "harmonic_numbers = np.array([1])\n",
    "no_of_harmonics = harmonic_numbers.max()\n",
    "\n",
    "noise = np.random.normal(0, 0.1, time.size)\n",
    "omega = tau * power_freq / sampling_freq\n",
    "signal = 300. * np.cos(omega * time) + noise\n",
    "\n",
    "fig, ax = plt.subplots()\n",
    "ax.plot(time[:200], signal[:200].real)\n",
    "ax.set_xlabel('time [s]')\n",
    "ax.set_ylabel('signal [V]')\n",
    "fig.tight_layout()"
   ]
  },
  {
   "cell_type": "markdown",
   "metadata": {},
   "source": [
    "## Finestre di Osservazione"
   ]
  },
  {
   "cell_type": "code",
   "execution_count": null,
   "metadata": {},
   "outputs": [],
   "source": [
    "fastest_period = np.around(sampling_freq / power_freq).astype(int)\n",
    "time_window = fastest_period * no_of_harmonics\n",
    "data_size = signal.size - time_window + 1\n",
    "\n",
    "windows = [signal[i : i + time_window] for i in range(data_size)]\n",
    "data_matrix = np.vstack(windows)\n",
    "\n",
    "print(f'numero di finestre: {data_matrix.shape[0]}')\n",
    "print(f'larghezza finestre: {data_matrix.shape[1]}')"
   ]
  },
  {
   "cell_type": "markdown",
   "metadata": {},
   "source": [
    "## Matrice di Autorcorrelazione\n",
    "$$\n",
    "\\hat{R}_v = \\frac{1}{N} \\mathbb{V}^H \\mathbb{V}\n",
    "$$"
   ]
  },
  {
   "cell_type": "code",
   "execution_count": null,
   "metadata": {},
   "outputs": [],
   "source": [
    "correlation = data_matrix.T @ data_matrix / data_matrix.shape[0]"
   ]
  },
  {
   "cell_type": "markdown",
   "metadata": {},
   "source": [
    "## Principal Component Analysis"
   ]
  },
  {
   "cell_type": "code",
   "execution_count": null,
   "metadata": {},
   "outputs": [],
   "source": [
    "# signal: K largest      -> M - K : M - 1\n",
    "# noise: M - K smallest  -> 0 : M - K - 1\n",
    "\n",
    "signal_pca = LA.eigh(correlation, subset_by_index=(time_window - no_of_harmonics, time_window - 1))\n",
    "noise_pca = LA.eigh(correlation, subset_by_index=(0, time_window - no_of_harmonics - 1))\n",
    "signal_eigvecs = signal_pca[1].T\n",
    "noise_eigvecs = noise_pca[1].T"
   ]
  },
  {
   "cell_type": "markdown",
   "metadata": {},
   "source": [
    "## MUSIC\n",
    "$$\n",
    "P_{music}(e^{j\\omega}) = \\frac{1}{\\sum_{i=K+1}^M |e^H s_i|^2}\n",
    "$$"
   ]
  },
  {
   "cell_type": "code",
   "execution_count": null,
   "metadata": {},
   "outputs": [],
   "source": [
    "omegas = np.linspace(0, np.pi, 2000)\n",
    "freqs = omegas * sampling_freq / tau\n",
    "\n",
    "steering_matrix = np.exp(1j * np.outer(omegas, np.arange(time_window)))\n",
    "pseudo_power = 1 / np.sum(np.abs(noise_eigvecs @ steering_matrix.conj().T) ** 2, axis=0)\n",
    "    \n",
    "fig, ax = plt.subplots()\n",
    "plotdb(ax, freqs, pseudo_power)\n",
    "ax.set_xlabel('Frequency [Hz]')\n",
    "ax.set_ylabel('Pseudospectrum [dB]')\n",
    "fig.tight_layout()"
   ]
  },
  {
   "cell_type": "code",
   "execution_count": null,
   "metadata": {},
   "outputs": [],
   "source": [
    "peaks_idx, _ = ss.find_peaks(pseudo_power)\n",
    "\n",
    "peaks = pd.DataFrame()\n",
    "peaks['omega'] = omegas[peaks_idx]\n",
    "peaks['freq'] = freqs[peaks_idx]\n",
    "peaks['power'] = pseudo_power[peaks_idx]\n",
    "peaks = peaks.sort_values('power').tail(1).sort_values('omega')\n",
    "\n",
    "fig, ax1 = plt.subplots()\n",
    "\n",
    "plotdb(ax1, freqs, pseudo_power)\n",
    "plotdb(ax1, peaks.freq, peaks.power, 'o')\n",
    "ax1.set_xlabel('Frequency [Hz]')\n",
    "ax1.set_ylabel('Pseudospectrum')\n",
    "\n",
    "fig.tight_layout()"
   ]
  },
  {
   "cell_type": "code",
   "execution_count": null,
   "metadata": {},
   "outputs": [],
   "source": [
    "noise_power = noise_pca[0].mean()\n",
    "noise_power"
   ]
  },
  {
   "cell_type": "code",
   "execution_count": null,
   "metadata": {},
   "outputs": [],
   "source": [
    "est_omegas = peaks.omega.values\n",
    "est_steering_matrix = np.exp(1j * np.outer(est_omegas, np.arange(time_window)))\n",
    "\n",
    "b = signal_pca[0][:harmonic_numbers.size] - noise_power\n",
    "A = np.abs(signal_eigvecs[:harmonic_numbers.size] @ est_steering_matrix.conj().T) ** 2\n",
    "powers = LA.solve(A, b)\n",
    "amplitudes = np.sqrt(2 * powers)\n",
    "\n",
    "data = zip([power_freq], peaks.freq, [300], amplitudes)\n",
    "results = pd.DataFrame(data, columns=['real freq', 'est freq', 'real amp', 'est amp'])\n",
    "results"
   ]
  }
 ],
 "metadata": {
  "kernelspec": {
   "display_name": "Python 3",
   "language": "python",
   "name": "python3"
  },
  "language_info": {
   "codemirror_mode": {
    "name": "ipython",
    "version": 3
   },
   "file_extension": ".py",
   "mimetype": "text/x-python",
   "name": "python",
   "nbconvert_exporter": "python",
   "pygments_lexer": "ipython3",
   "version": "3.8.6"
  }
 },
 "nbformat": 4,
 "nbformat_minor": 4
}
