{
 "cells": [
  {
   "cell_type": "code",
   "execution_count": null,
   "metadata": {},
   "outputs": [],
   "source": [
    "from math import tau\n",
    "\n",
    "import matplotlib.pyplot as plt\n",
    "import numpy as np\n",
    "import pandas as pd\n",
    "import scipy as sp\n",
    "import scipy.linalg as LA\n",
    "import scipy.signal as ss\n",
    "\n",
    "plt.style.use('seaborn-notebook')\n",
    "np.random.seed(293710966)"
   ]
  },
  {
   "cell_type": "markdown",
   "metadata": {},
   "source": [
    "# Generazione del Segnale\n",
    "$$\n",
    "x(n) = \\sum_{k=2}^7 a_{2k-1} \\, cos \\left(2 \\pi n (2k-1)\n",
    "       \\frac{f_0}{f_s} + \\phi_{2k-1} \\right) + w(n)\n",
    "$$"
   ]
  },
  {
   "cell_type": "code",
   "execution_count": null,
   "metadata": {},
   "outputs": [],
   "source": [
    "power_freq = 50\n",
    "sampling_freq = 1130\n",
    "time = np.arange(4096)\n",
    "harmonic_numbers = np.array([1])\n",
    "\n",
    "noise = np.random.normal(0, 0.001, time.size)\n",
    "omega = tau * power_freq / sampling_freq\n",
    "signal = 300. * np.cos(omega * time + 0.1) + noise\n",
    "\n",
    "fig, ax = plt.subplots()\n",
    "ax.plot(time[:200], signal[:200].real)\n",
    "ax.set_xlabel('time [s]')\n",
    "ax.set_ylabel('signal [V]')\n",
    "fig.tight_layout()"
   ]
  },
  {
   "cell_type": "markdown",
   "metadata": {},
   "source": [
    "## Finestre di Osservazione"
   ]
  },
  {
   "cell_type": "code",
   "execution_count": null,
   "metadata": {},
   "outputs": [],
   "source": [
    "fastest_period = np.around(sampling_freq / power_freq).astype(int)\n",
    "time_window = fastest_period * harmonic_numbers[-1]\n",
    "data_size = signal.size - time_window + 1\n",
    "\n",
    "windows = [signal[i : i + time_window] for i in range(data_size)]\n",
    "data_matrix = np.vstack(windows)"
   ]
  },
  {
   "cell_type": "markdown",
   "metadata": {},
   "source": [
    "## Matrice di Autorcorrelazione\n",
    "$$\n",
    "\\hat{R}_v = \\frac{1}{N} \\mathbb{V}^H \\mathbb{V}\n",
    "$$"
   ]
  },
  {
   "cell_type": "code",
   "execution_count": null,
   "metadata": {},
   "outputs": [],
   "source": [
    "correlation = data_matrix.conj().T @ data_matrix / data_matrix.shape[0]"
   ]
  },
  {
   "cell_type": "markdown",
   "metadata": {},
   "source": [
    "## Principal Component Analysis"
   ]
  },
  {
   "cell_type": "code",
   "execution_count": null,
   "metadata": {},
   "outputs": [],
   "source": [
    "# signal: K largest      -> M - K : M - 1\n",
    "# noise: M - K smallest  -> 0 : M - K - 1\n",
    "\n",
    "signal_pca = LA.eigh(correlation, subset_by_index=(time_window - harmonic_numbers.size, time_window - 1))\n",
    "noise_pca = LA.eigh(correlation, subset_by_index=(0, time_window - harmonic_numbers.size - 1))"
   ]
  },
  {
   "cell_type": "markdown",
   "metadata": {},
   "source": [
    "## MUSIC\n",
    "$$\n",
    "P_{music}(e^{j\\omega}) = \\frac{1}{\\sum_{i=K+1}^M |e^H s_i|^2}\n",
    "$$"
   ]
  },
  {
   "cell_type": "code",
   "execution_count": null,
   "metadata": {},
   "outputs": [],
   "source": [
    "omegas = np.linspace(0, np.pi, 2000)\n",
    "freqs = omegas * sampling_freq / tau\n",
    "\n",
    "pseudo_power = np.empty_like(omegas)\n",
    "\n",
    "for i, omega in enumerate(omegas):\n",
    "    steering = np.exp(1j * omega * np.arange(time_window))\n",
    "    pseudo_power[i] = 1 / np.sum(np.abs(noise_pca[1].T @ steering.conj()) ** 2)\n",
    "    \n",
    "fig, ax = plt.subplots()\n",
    "ax.plot(freqs, 10 * np.log10(pseudo_power))\n",
    "ax.set_xlabel('Frequency [Hz]')\n",
    "ax.set_ylabel('Pseudospectrum [dB]')\n",
    "fig.tight_layout()"
   ]
  },
  {
   "cell_type": "code",
   "execution_count": null,
   "metadata": {},
   "outputs": [],
   "source": [
    "peaks_idx, _ = ss.find_peaks(pseudo_power)\n",
    "\n",
    "peaks = pd.DataFrame()\n",
    "peaks['omega'] = omegas[peaks_idx]\n",
    "peaks['freq'] = freqs[peaks_idx]\n",
    "peaks['power'] = pseudo_power[peaks_idx]\n",
    "peaks = peaks.sort_values('power', ascending=False).head(1).sort_values('omega')\n",
    "\n",
    "fig, (ax1, ax2) = plt.subplots(1, 2, figsize=(16, 4))\n",
    "\n",
    "ax1.plot(freqs, pseudo_power)\n",
    "ax1.plot(peaks.freq, peaks.power, 'o');\n",
    "ax1.set_xlabel('Frequency [Hz]')\n",
    "ax1.set_ylabel('Pseudospectrum')\n",
    "ax1.set_yscale('log')\n",
    "\n",
    "ax2.plot(power_freq, 'o-', label='Harmonic Frequencies')\n",
    "ax2.plot(peaks.freq.values, 'o-', label='Estimated Frequencies')\n",
    "ax2.set_ylabel('Frequency [Hz]')\n",
    "ax2.legend()\n",
    "\n",
    "fig.tight_layout()"
   ]
  }
 ],
 "metadata": {
  "kernelspec": {
   "display_name": "Python 3",
   "language": "python",
   "name": "python3"
  },
  "language_info": {
   "codemirror_mode": {
    "name": "ipython",
    "version": 3
   },
   "file_extension": ".py",
   "mimetype": "text/x-python",
   "name": "python",
   "nbconvert_exporter": "python",
   "pygments_lexer": "ipython3",
   "version": "3.8.6"
  }
 },
 "nbformat": 4,
 "nbformat_minor": 4
}
